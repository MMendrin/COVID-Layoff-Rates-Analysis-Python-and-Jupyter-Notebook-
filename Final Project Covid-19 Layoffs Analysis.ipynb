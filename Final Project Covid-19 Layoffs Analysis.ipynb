{
 "cells": [
  {
   "cell_type": "code",
   "execution_count": 3,
   "id": "d0f54af2",
   "metadata": {},
   "outputs": [
    {
     "data": {
      "text/html": [
       "        <script type=\"text/javascript\">\n",
       "        window.PlotlyConfig = {MathJaxConfig: 'local'};\n",
       "        if (window.MathJax) {MathJax.Hub.Config({SVG: {font: \"STIX-Web\"}});}\n",
       "        if (typeof require !== 'undefined') {\n",
       "        require.undef(\"plotly\");\n",
       "        requirejs.config({\n",
       "            paths: {\n",
       "                'plotly': ['https://cdn.plot.ly/plotly-2.8.3.min']\n",
       "            }\n",
       "        });\n",
       "        require(['plotly'], function(Plotly) {\n",
       "            window._Plotly = Plotly;\n",
       "        });\n",
       "        }\n",
       "        </script>\n",
       "        "
      ]
     },
     "metadata": {},
     "output_type": "display_data"
    }
   ],
   "source": [
    "# import packages\n",
    "import sympy as sy\n",
    "import math\n",
    "import time\n",
    "import numpy as np\n",
    "import pandas as pd \n",
    "# import plotting packages\n",
    "import matplotlib.pyplot as plt\n",
    "import plotly.express as px\n",
    "from sympy.plotting import plot\n",
    "import plotly.graph_objects as go\n",
    "from plotly.offline import init_notebook_mode\n",
    "init_notebook_mode(connected=True)"
   ]
  },
  {
   "cell_type": "markdown",
   "id": "e15ad8c1",
   "metadata": {},
   "source": [
    "# Covid-19 Layoffs - Analysis\n",
    "## Melea Mendrin"
   ]
  },
  {
   "cell_type": "markdown",
   "id": "d5f2af04",
   "metadata": {},
   "source": [
    "## Table of Contents\n",
    " - [Introduction](#intro)\n",
    " - [Question 1](#quest1)\n",
    " - [Question 2](#quest2)\n",
    " - [Question 3](#quest3)\n",
    "\n",
    "\n",
    "***"
   ]
  },
  {
   "cell_type": "markdown",
   "id": "ea95f164",
   "metadata": {},
   "source": [
    "## Introduction  <a id='intro'> </a>"
   ]
  },
  {
   "cell_type": "markdown",
   "id": "c5dc9ccf",
   "metadata": {},
   "source": [
    "It is well known that the arrival of the Covid-19 pandemic has had a significant impact on global employment as well as on employment in the United States.  Covid-19 and stay-at-home lockdowns have caused changes in certain industries, where many people who did not work “essential jobs” were let go from their places of employment, resulting in large rates of layoffs over the past two years. Awareness of this situation has prompted me to question certain attributes of how layoff rates may have been influenced by the pandemic over time, and how such rates may be an indicator of changes in different industries.\n",
    "In addition, I have seen numerous news headlines detailing Elon Musk’s acquisition of Twitter and the layoffs of Twitter employees that had been recently announced.  Seeing such news has led me to wonder how these layoffs from Twitter may have impacted layoff rates. To explore these potential influences on company layoffs, I have chosen to do the first project option and focus on the analysis of layoff data. Using a dataset from Kaggle.com (https://www.kaggle.com/datasets/swaptr/layoffs-2022?resource=download&select=layoffs.csv), I am going to analyze data from the layoffs of companies to derive insight from over the past two years.  This dataset includes layoff reports beginning in March 11th, 2020, when the World Health Organization first declared Covid-19 to be a pandemic, and continues to the present, although I will be using data only up to November 30th 2022. \n"
   ]
  },
  {
   "cell_type": "code",
   "execution_count": 4,
   "id": "ac81576e",
   "metadata": {},
   "outputs": [
    {
     "data": {
      "text/html": [
       "<div>\n",
       "<style scoped>\n",
       "    .dataframe tbody tr th:only-of-type {\n",
       "        vertical-align: middle;\n",
       "    }\n",
       "\n",
       "    .dataframe tbody tr th {\n",
       "        vertical-align: top;\n",
       "    }\n",
       "\n",
       "    .dataframe thead th {\n",
       "        text-align: right;\n",
       "    }\n",
       "</style>\n",
       "<table border=\"1\" class=\"dataframe\">\n",
       "  <thead>\n",
       "    <tr style=\"text-align: right;\">\n",
       "      <th></th>\n",
       "      <th>company</th>\n",
       "      <th>location</th>\n",
       "      <th>industry</th>\n",
       "      <th>total_laid_off</th>\n",
       "      <th>percentage_laid_off</th>\n",
       "      <th>date</th>\n",
       "      <th>stage</th>\n",
       "      <th>country</th>\n",
       "      <th>funds_raised</th>\n",
       "    </tr>\n",
       "  </thead>\n",
       "  <tbody>\n",
       "    <tr>\n",
       "      <th>0</th>\n",
       "      <td>Lyst</td>\n",
       "      <td>London</td>\n",
       "      <td>Retail</td>\n",
       "      <td>50.0</td>\n",
       "      <td>0.25</td>\n",
       "      <td>2022-11-29</td>\n",
       "      <td>Unknown</td>\n",
       "      <td>United Kingdom</td>\n",
       "      <td>144.0</td>\n",
       "    </tr>\n",
       "    <tr>\n",
       "      <th>1</th>\n",
       "      <td>Bitfront</td>\n",
       "      <td>SF Bay Area</td>\n",
       "      <td>Crypto</td>\n",
       "      <td>NaN</td>\n",
       "      <td>1.00</td>\n",
       "      <td>2022-11-29</td>\n",
       "      <td>Unknown</td>\n",
       "      <td>United States</td>\n",
       "      <td>NaN</td>\n",
       "    </tr>\n",
       "    <tr>\n",
       "      <th>2</th>\n",
       "      <td>Lazerpay</td>\n",
       "      <td>Lagos</td>\n",
       "      <td>Crypto</td>\n",
       "      <td>NaN</td>\n",
       "      <td>NaN</td>\n",
       "      <td>2022-11-29</td>\n",
       "      <td>Unknown</td>\n",
       "      <td>Nigeria</td>\n",
       "      <td>NaN</td>\n",
       "    </tr>\n",
       "    <tr>\n",
       "      <th>3</th>\n",
       "      <td>MessageBird</td>\n",
       "      <td>Amsterdam</td>\n",
       "      <td>Other</td>\n",
       "      <td>NaN</td>\n",
       "      <td>0.31</td>\n",
       "      <td>2022-11-29</td>\n",
       "      <td>Series C</td>\n",
       "      <td>Netherlands</td>\n",
       "      <td>1100.0</td>\n",
       "    </tr>\n",
       "    <tr>\n",
       "      <th>4</th>\n",
       "      <td>Plerk</td>\n",
       "      <td>Guadalajara</td>\n",
       "      <td>Finance</td>\n",
       "      <td>NaN</td>\n",
       "      <td>0.40</td>\n",
       "      <td>2022-11-29</td>\n",
       "      <td>NaN</td>\n",
       "      <td>Mexico</td>\n",
       "      <td>NaN</td>\n",
       "    </tr>\n",
       "    <tr>\n",
       "      <th>...</th>\n",
       "      <td>...</td>\n",
       "      <td>...</td>\n",
       "      <td>...</td>\n",
       "      <td>...</td>\n",
       "      <td>...</td>\n",
       "      <td>...</td>\n",
       "      <td>...</td>\n",
       "      <td>...</td>\n",
       "      <td>...</td>\n",
       "    </tr>\n",
       "    <tr>\n",
       "      <th>1690</th>\n",
       "      <td>Service</td>\n",
       "      <td>Los Angeles</td>\n",
       "      <td>Travel</td>\n",
       "      <td>NaN</td>\n",
       "      <td>1.00</td>\n",
       "      <td>2020-03-16</td>\n",
       "      <td>Seed</td>\n",
       "      <td>United States</td>\n",
       "      <td>5.1</td>\n",
       "    </tr>\n",
       "    <tr>\n",
       "      <th>1691</th>\n",
       "      <td>HopSkipDrive</td>\n",
       "      <td>Los Angeles</td>\n",
       "      <td>Transportation</td>\n",
       "      <td>8.0</td>\n",
       "      <td>0.10</td>\n",
       "      <td>2020-03-13</td>\n",
       "      <td>Unknown</td>\n",
       "      <td>United States</td>\n",
       "      <td>45.0</td>\n",
       "    </tr>\n",
       "    <tr>\n",
       "      <th>1692</th>\n",
       "      <td>Panda Squad</td>\n",
       "      <td>SF Bay Area</td>\n",
       "      <td>Consumer</td>\n",
       "      <td>6.0</td>\n",
       "      <td>0.75</td>\n",
       "      <td>2020-03-13</td>\n",
       "      <td>Seed</td>\n",
       "      <td>United States</td>\n",
       "      <td>1.0</td>\n",
       "    </tr>\n",
       "    <tr>\n",
       "      <th>1693</th>\n",
       "      <td>Tamara Mellon</td>\n",
       "      <td>Los Angeles</td>\n",
       "      <td>Retail</td>\n",
       "      <td>20.0</td>\n",
       "      <td>0.40</td>\n",
       "      <td>2020-03-12</td>\n",
       "      <td>Series C</td>\n",
       "      <td>United States</td>\n",
       "      <td>90.0</td>\n",
       "    </tr>\n",
       "    <tr>\n",
       "      <th>1694</th>\n",
       "      <td>EasyPost</td>\n",
       "      <td>Salt Lake City</td>\n",
       "      <td>Logistics</td>\n",
       "      <td>75.0</td>\n",
       "      <td>NaN</td>\n",
       "      <td>2020-03-11</td>\n",
       "      <td>Series A</td>\n",
       "      <td>United States</td>\n",
       "      <td>12.0</td>\n",
       "    </tr>\n",
       "  </tbody>\n",
       "</table>\n",
       "<p>1695 rows × 9 columns</p>\n",
       "</div>"
      ],
      "text/plain": [
       "            company        location        industry  total_laid_off  \\\n",
       "0              Lyst          London          Retail            50.0   \n",
       "1          Bitfront     SF Bay Area          Crypto             NaN   \n",
       "2          Lazerpay           Lagos          Crypto             NaN   \n",
       "3       MessageBird       Amsterdam           Other             NaN   \n",
       "4             Plerk     Guadalajara         Finance             NaN   \n",
       "...             ...             ...             ...             ...   \n",
       "1690        Service     Los Angeles          Travel             NaN   \n",
       "1691   HopSkipDrive     Los Angeles  Transportation             8.0   \n",
       "1692    Panda Squad     SF Bay Area        Consumer             6.0   \n",
       "1693  Tamara Mellon     Los Angeles          Retail            20.0   \n",
       "1694       EasyPost  Salt Lake City       Logistics            75.0   \n",
       "\n",
       "      percentage_laid_off        date     stage         country  funds_raised  \n",
       "0                    0.25  2022-11-29   Unknown  United Kingdom         144.0  \n",
       "1                    1.00  2022-11-29   Unknown   United States           NaN  \n",
       "2                     NaN  2022-11-29   Unknown         Nigeria           NaN  \n",
       "3                    0.31  2022-11-29  Series C     Netherlands        1100.0  \n",
       "4                    0.40  2022-11-29       NaN          Mexico           NaN  \n",
       "...                   ...         ...       ...             ...           ...  \n",
       "1690                 1.00  2020-03-16      Seed   United States           5.1  \n",
       "1691                 0.10  2020-03-13   Unknown   United States          45.0  \n",
       "1692                 0.75  2020-03-13      Seed   United States           1.0  \n",
       "1693                 0.40  2020-03-12  Series C   United States          90.0  \n",
       "1694                  NaN  2020-03-11  Series A   United States          12.0  \n",
       "\n",
       "[1695 rows x 9 columns]"
      ]
     },
     "execution_count": 4,
     "metadata": {},
     "output_type": "execute_result"
    }
   ],
   "source": [
    "df = pd.read_csv(r'C:\\Users\\melea\\Downloads\\archive (3)\\layoffs.csv')\n",
    "df"
   ]
  },
  {
   "cell_type": "markdown",
   "id": "866f74e7",
   "metadata": {},
   "source": [
    "## Question 1) <a id='quest1'> </a>\n",
    "Out of the finance, retail, and real estate industry, which had the largest number of employees laid off from March 2020 to November 2020, and which industry had the largest percentage of employees laid off?  "
   ]
  },
  {
   "cell_type": "code",
   "execution_count": 5,
   "id": "80035abd",
   "metadata": {},
   "outputs": [
    {
     "name": "stdout",
     "output_type": "stream",
     "text": [
      "0.2560958904109589\n",
      "19600.0\n"
     ]
    }
   ],
   "source": [
    "def question_1_finance():\n",
    "    \"\"\" Uses a Lambda function that accepts a dataframe as an arguement,\n",
    "    checks to see if the company is in a finance row under the \n",
    "    column titled industry, and the rows that include finance are returned\n",
    "    and saved as FinanceDf. Then the average percentage of \n",
    "    employees laid off is calculated using mean() method. \n",
    "    After, the same process is aplied to the retail and real estate\n",
    "    industries in subsequent functions. \"\"\"\n",
    "    #########################################################\n",
    "    \n",
    "    FinanceDf = df.loc[ lambda x : (x['industry'] == 'Finance').tolist() ]\n",
    "    \n",
    "    a = FinanceDf['percentage_laid_off'].dtypes\n",
    "    if a != float:\n",
    "        raise(TypeError('This column must have float values'))\n",
    "        \n",
    "    FinanceDf2 = FinanceDf[\"percentage_laid_off\"].mean()  # finds average percentage of employees laid off\n",
    "    FinanceDf3 = FinanceDf[\"total_laid_off\"].sum()\n",
    "print(FinanceDf2)  # prints average percentage laid off\n",
    "print(FinanceDf3)  # prints total number laid off"
   ]
  },
  {
   "cell_type": "code",
   "execution_count": 8,
   "id": "ae775e23",
   "metadata": {},
   "outputs": [
    {
     "data": {
      "image/png": "[encoded data removed]",
      "text/plain": [
       "<Figure size 432x288 with 1 Axes>"
      ]
     },
     "metadata": {
      "needs_background": "light"
     },
     "output_type": "display_data"
    }
   ],
   "source": [
    "histogram1 = FinanceDf.hist(column='percentage_laid_off', bins=20, color='maroon')"
   ]
  },
  {
   "cell_type": "code",
   "execution_count": 6,
   "id": "86441806",
   "metadata": {},
   "outputs": [
    {
     "name": "stdout",
     "output_type": "stream",
     "text": [
      "0.30687500000000006\n",
      "27287.0\n"
     ]
    }
   ],
   "source": [
    "def question_1_retail():\n",
    "    \"\"\" Same purpose and process as previous function, only\n",
    "    that this applies to the retail industry instead \"\"\"\n",
    "    ####################################################\n",
    "    \n",
    "    RetailDf = df.loc[ lambda x : (x['industry'] == 'Retail').tolist() ]\n",
    "    \n",
    "    b = RetailDf['percentage_laid_off'].dtypes\n",
    "    if b != float:\n",
    "        raise(TypeError('This column must have float values'))\n",
    "        \n",
    "    RetailDf2 = RetailDf[\"percentage_laid_off\"].mean()\n",
    "    RetailDf3 = RetailDf[\"total_laid_off\"].sum()\n",
    "print(RetailDf2)  # prints average percentage laid off\n",
    "print(RetailDf3)  # prints total number laid off"
   ]
  },
  {
   "cell_type": "code",
   "execution_count": 10,
   "id": "d78e6801",
   "metadata": {},
   "outputs": [
    {
     "data": {
      "image/png": "[encoded data removed]",
      "text/plain": [
       "<Figure size 432x288 with 1 Axes>"
      ]
     },
     "metadata": {
      "needs_background": "light"
     },
     "output_type": "display_data"
    }
   ],
   "source": [
    "histogram2 = RetailDf.hist(column='percentage_laid_off', bins=20, color='purple')"
   ]
  },
  {
   "cell_type": "code",
   "execution_count": 144,
   "id": "e4b19db5",
   "metadata": {},
   "outputs": [
    {
     "name": "stdout",
     "output_type": "stream",
     "text": [
      "0.32257142857142845\n",
      "16022.0\n"
     ]
    }
   ],
   "source": [
    "def question_1_realestate():\n",
    "    \"\"\" Same purpose and process as previous function, only\n",
    "    that this applies to the real estate industry instead \"\"\"\n",
    "    ####################################################\n",
    "    \n",
    "    RealEstateDf = df.loc[ lambda x : (x['industry'] == 'Real Estate').tolist() ]\n",
    "    \n",
    "    c = RealEstateDf['percentage_laid_off'].dtypes               # raise type error \n",
    "    if c != float:                                               # column should be float values so we can use mean() \n",
    "        raise(TypeError('This column must have float values'))   # and get the most precise results\n",
    "        \n",
    "    RealEstateDf2= RealEstateDf[\"percentage_laid_off\"].mean()\n",
    "    RealEstateDf3 = RealEstateDf[\"total_laid_off\"].sum()\n",
    "print(RealEstateDf2)  # prints average percentage laid off\n",
    "print(RealEstateDf3) # prints total number laid off"
   ]
  },
  {
   "cell_type": "code",
   "execution_count": 124,
   "id": "20db1f71",
   "metadata": {},
   "outputs": [
    {
     "data": {
      "image/png": "[encoded data removed]",
      "text/plain": [
       "<Figure size 432x288 with 1 Axes>"
      ]
     },
     "metadata": {
      "needs_background": "light"
     },
     "output_type": "display_data"
    }
   ],
   "source": [
    "histogram3 = RealEstateDf.hist(column='percentage_laid_off', bins=20, color='navy')"
   ]
  },
  {
   "cell_type": "markdown",
   "id": "e4d22d96",
   "metadata": {},
   "source": [
    "Using these functions on the dataset, we get that the finance industry had 19,600 emloyees laid off, the retail industry had 27,287 employees laid off, and the real estate industry had 16,022 employees laid off.  From these three industries, it is apparent that the retail industry had the most employees laid off. \n",
    "<br/><br/>\n",
    "From these functions, we also get that 25.6 percent of the finance industry was laid off, 30.6 percent of the retail industry was laid off, and 32.3 percent of the real estate industry was laid off.  In comparision to employee count, when comparing percentages, it is found that the real estate industry suffered the most from layoffs."
   ]
  },
  {
   "cell_type": "markdown",
   "id": "a477a0ec",
   "metadata": {},
   "source": [
    "## Question 2) <a id='quest2'> </a>\n",
    "Was there an increase in the average percentage of company layoffs after Elon Musk announced layoffs for Twitter on November 3rd, 2022, in comparison to the average percentage of all months prior in 2022? If so, by how much, and are these results significant?\n"
   ]
  },
  {
   "cell_type": "code",
   "execution_count": 102,
   "id": "12c088fa",
   "metadata": {},
   "outputs": [
    {
     "name": "stdout",
     "output_type": "stream",
     "text": [
      "0.26872881355932204\n",
      "0.2470998278829603\n",
      "0.021628985676361734\n"
     ]
    }
   ],
   "source": [
    "# These functions finds the average percentage of company layoffs from Nov 3rd 2022\n",
    "# to Nov 29th 2022, as noted by rows 0-161 in the dataframe, and finds the average percentage of company\n",
    "# layoffs from March 11th 2020 to Nov 3rd 2022 as noted by rows 161-1019. \n",
    "\n",
    "\n",
    "df2 = df.iloc[0 : 161]  # create a subset dataframe from rows 0-161, representing all data entries that occur\n",
    "                        # after Elon Musk declared Twitter layoffs\n",
    "    \n",
    "df3 = df.iloc[162 : 1019]  # subset dataframe from all entries in 2022 not included in previous dataframe df2\n",
    "\n",
    "\n",
    "def question_2_part1():   # after Twitter layoffs\n",
    "    \n",
    "    \"\"\" This function finds the average percentage of employees laid off \"\"\"\n",
    "    \n",
    "    for index in df2.index:                            \n",
    "        #print(df2['percentage_laid_off'][index])\n",
    "        df2['percentage_laid_off'].mean()\n",
    "print(df2['percentage_laid_off'].mean()) \n",
    "\n",
    "###########################################\n",
    "    \n",
    "def question_2_part2():  # Before Twitter layoffs\n",
    "    \n",
    "    \"\"\" This function finds the average percentage of employees laid off \"\"\"\n",
    "    \n",
    "    for index in df3.index:\n",
    "        #print(df3['percentage_laid_off'][index])\n",
    "        df3['percentage_laid_off'].mean()\n",
    "print(df3['percentage_laid_off'].mean())\n",
    "\n",
    "############################################\n",
    "\n",
    "difference = df2['percentage_laid_off'].mean() - df3['percentage_laid_off'].mean()\n",
    "print(difference)\n",
    "\n"
   ]
  },
  {
   "cell_type": "code",
   "execution_count": 127,
   "id": "5486e33a",
   "metadata": {},
   "outputs": [
    {
     "data": {
      "image/png": "[encoded data removed]",
      "text/plain": [
       "<Figure size 432x288 with 1 Axes>"
      ]
     },
     "metadata": {
      "needs_background": "light"
     },
     "output_type": "display_data"
    }
   ],
   "source": [
    "histogram4 = df2.hist(column='percentage_laid_off', bins=20, color='green') \n",
    "# percentage of company layoffs after Elon Musk announced layoffs for Twitter on November 3rd, 2022"
   ]
  },
  {
   "cell_type": "code",
   "execution_count": 129,
   "id": "3f73a600",
   "metadata": {},
   "outputs": [
    {
     "data": {
      "image/png": "[encoded data removed]",
      "text/plain": [
       "<Figure size 432x288 with 1 Axes>"
      ]
     },
     "metadata": {
      "needs_background": "light"
     },
     "output_type": "display_data"
    }
   ],
   "source": [
    "histogram5 = df3.hist(column='percentage_laid_off', bins=20, color='blue') \n",
    "# percentage of layoffs in 2022 before Twitter layoffs"
   ]
  },
  {
   "cell_type": "markdown",
   "id": "93e7c378",
   "metadata": {},
   "source": [
    "Answering question 2, there was in fact an increase in layoffs after Elon Musk announced Twitter layoffs in November.  Prior to Twitter Layoffs, the average layoff rate for 2022 was 24.7 percent.  After the announcement of Twitter layoffs, however, the rate increased to 26.9 percent, which is approximately a 2.2 percent difference.  Although this is not a significantly large difference, this does indicate that Twitter layoffs may have affected layoff rates at a global scale."
   ]
  },
  {
   "cell_type": "code",
   "execution_count": 78,
   "id": "bda05bd6",
   "metadata": {},
   "outputs": [
    {
     "name": "stdout",
     "output_type": "stream",
     "text": [
      "0.26872881355932204\n",
      "0.2470998278829603\n",
      "0.021628985676361734\n"
     ]
    }
   ],
   "source": [
    "# this is an alternate method to answering the same question, where a function is not used\n",
    "# and \"for-loops\" are not used\n",
    "\n",
    "\n",
    "    subsetDf1 = df.loc[ 0 : 161 ]   # layoffs after Elon Musk announced Twitter layoffs\n",
    "    avg1= subsetDf1['percentage_laid_off'].mean()\n",
    "  \n",
    "\n",
    "    subsetDf2 = df.loc[162 : 1019]   # layoffs prior to Elon Musk announcing Twitter layoffs\n",
    "    avg2= subsetDf2['percentage_laid_off'].mean()\n",
    "    \n",
    "    \n",
    "print(avg1)\n",
    "print(avg2)\n",
    "print(avg1-avg2)\n",
    "    "
   ]
  },
  {
   "cell_type": "markdown",
   "id": "9d964f93",
   "metadata": {},
   "source": [
    "## Question 3) <a id='quest3'> </a>\n",
    "Was there a greater average percentage of layoffs in 2020 or 2022, and what insights might this difference in percentage reveal about the world in these two years?"
   ]
  },
  {
   "cell_type": "code",
   "execution_count": 131,
   "id": "9011d1e6",
   "metadata": {},
   "outputs": [
    {
     "name": "stdout",
     "output_type": "stream",
     "text": [
      "0.309480906921241\n",
      "0.2507510729613734\n"
     ]
    }
   ],
   "source": [
    "Df1 = df.loc[ 1062 : 1694 ]    #create a subset of main dataframe that only includes rows from 2020\n",
    "#display(Df1)\n",
    "avg1= Df1['percentage_laid_off'].mean()  # calculate average percentage of emplyees laid off from 2020\n",
    "print(avg1)\n",
    "\n",
    "\n",
    "Df2 = df.loc[ 0 : 1018 ]  #create a subset of main dataframe that only includes rows from 2022\n",
    "#display(Df2)\n",
    "avg2= Df2['percentage_laid_off'].mean()  # calculate average percentage of emplyees laid off from 2022\n",
    "print(avg2)"
   ]
  },
  {
   "cell_type": "code",
   "execution_count": 133,
   "id": "168089e5",
   "metadata": {},
   "outputs": [
    {
     "data": {
      "image/png": "[encoded data removed]",
      "text/plain": [
       "<Figure size 432x288 with 1 Axes>"
      ]
     },
     "metadata": {
      "needs_background": "light"
     },
     "output_type": "display_data"
    }
   ],
   "source": [
    "histogram6 = Df1.hist(column='percentage_laid_off', bins=20, color='orange')  # histogram for 2020"
   ]
  },
  {
   "cell_type": "code",
   "execution_count": 134,
   "id": "d225273d",
   "metadata": {},
   "outputs": [
    {
     "data": {
      "image/png": "[encoded data removed]",
      "text/plain": [
       "<Figure size 432x288 with 1 Axes>"
      ]
     },
     "metadata": {
      "needs_background": "light"
     },
     "output_type": "display_data"
    }
   ],
   "source": [
    "histogram7 = Df2.hist(column='percentage_laid_off', bins=20, color='red') # histogram for 2022"
   ]
  },
  {
   "cell_type": "markdown",
   "id": "af9f0366",
   "metadata": {},
   "source": [
    "We find that the percentage of company layoffs was 30.9 percent in 2020 and 25.1 percent in 2022, indicating that there were more layoffs in 2020 at the start of the Covid-19 pandemic, as compared to this year."
   ]
  }
 ],
 "metadata": {
  "kernelspec": {
   "display_name": "Python 3 (ipykernel)",
   "language": "python",
   "name": "python3"
  },
  "language_info": {
   "codemirror_mode": {
    "name": "ipython",
    "version": 3
   },
   "file_extension": ".py",
   "mimetype": "text/x-python",
   "name": "python",
   "nbconvert_exporter": "python",
   "pygments_lexer": "ipython3",
   "version": "3.9.7"
  }
 },
 "nbformat": 4,
 "nbformat_minor": 5
}
